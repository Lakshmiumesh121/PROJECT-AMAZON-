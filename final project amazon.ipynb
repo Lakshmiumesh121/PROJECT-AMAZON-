{
 "cells": [
  {
   "cell_type": "code",
   "execution_count": 1,
   "id": "7fb22eec-4b75-42c1-85fb-6d7eab1f3e14",
   "metadata": {},
   "outputs": [],
   "source": [
    "import pandas as pd\n",
    "import numpy as np\n",
    "import matplotlib as plt\n",
    "import seaborn as sns"
   ]
  },
  {
   "cell_type": "markdown",
   "id": "a9c709ce-5646-4f13-94ee-e0a8bc56a7a2",
   "metadata": {},
   "source": [
    " AMAZON DATA"
   ]
  },
  {
   "cell_type": "code",
   "execution_count": 2,
   "id": "208affbc-650d-4802-ba37-bf453a6f7b5f",
   "metadata": {},
   "outputs": [],
   "source": [
    "df=pd.read_csv(r\"C:\\Users\\user\\Desktop\\project\\amazon.csv\")"
   ]
  },
  {
   "cell_type": "code",
   "execution_count": 3,
   "id": "cf25147c-d037-488c-862a-c1d291bf9da5",
   "metadata": {},
   "outputs": [
    {
     "data": {
      "text/html": [
       "<div>\n",
       "<style scoped>\n",
       "    .dataframe tbody tr th:only-of-type {\n",
       "        vertical-align: middle;\n",
       "    }\n",
       "\n",
       "    .dataframe tbody tr th {\n",
       "        vertical-align: top;\n",
       "    }\n",
       "\n",
       "    .dataframe thead th {\n",
       "        text-align: right;\n",
       "    }\n",
       "</style>\n",
       "<table border=\"1\" class=\"dataframe\">\n",
       "  <thead>\n",
       "    <tr style=\"text-align: right;\">\n",
       "      <th></th>\n",
       "      <th>product_id</th>\n",
       "      <th>product_name</th>\n",
       "      <th>category</th>\n",
       "      <th>discounted_price</th>\n",
       "      <th>actual_price</th>\n",
       "      <th>discount_percentage</th>\n",
       "      <th>rating</th>\n",
       "      <th>rating_count</th>\n",
       "      <th>about_product</th>\n",
       "      <th>user_id</th>\n",
       "      <th>user_name</th>\n",
       "      <th>review_id</th>\n",
       "      <th>review_title</th>\n",
       "      <th>review_content</th>\n",
       "      <th>img_link</th>\n",
       "      <th>product_link</th>\n",
       "    </tr>\n",
       "  </thead>\n",
       "  <tbody>\n",
       "    <tr>\n",
       "      <th>0</th>\n",
       "      <td>B07JW9H4J1</td>\n",
       "      <td>Wayona Nylon Braided USB to Lightning Fast Cha...</td>\n",
       "      <td>Computers&amp;Accessories|Accessories&amp;Peripherals|...</td>\n",
       "      <td>₹399</td>\n",
       "      <td>₹1,099</td>\n",
       "      <td>64%</td>\n",
       "      <td>4.2</td>\n",
       "      <td>24,269</td>\n",
       "      <td>High Compatibility : Compatible With iPhone 12...</td>\n",
       "      <td>AG3D6O4STAQKAY2UVGEUV46KN35Q,AHMY5CWJMMK5BJRBB...</td>\n",
       "      <td>Manav,Adarsh gupta,Sundeep,S.Sayeed Ahmed,jasp...</td>\n",
       "      <td>R3HXWT0LRP0NMF,R2AJM3LFTLZHFO,R6AQJGUP6P86,R1K...</td>\n",
       "      <td>Satisfied,Charging is really fast,Value for mo...</td>\n",
       "      <td>Looks durable Charging is fine tooNo complains...</td>\n",
       "      <td>https://m.media-amazon.com/images/W/WEBP_40237...</td>\n",
       "      <td>https://www.amazon.in/Wayona-Braided-WN3LG1-Sy...</td>\n",
       "    </tr>\n",
       "    <tr>\n",
       "      <th>1</th>\n",
       "      <td>B098NS6PVG</td>\n",
       "      <td>Ambrane Unbreakable 60W / 3A Fast Charging 1.5...</td>\n",
       "      <td>Computers&amp;Accessories|Accessories&amp;Peripherals|...</td>\n",
       "      <td>₹199</td>\n",
       "      <td>₹349</td>\n",
       "      <td>43%</td>\n",
       "      <td>4.0</td>\n",
       "      <td>43,994</td>\n",
       "      <td>Compatible with all Type C enabled devices, be...</td>\n",
       "      <td>AECPFYFQVRUWC3KGNLJIOREFP5LQ,AGYYVPDD7YG7FYNBX...</td>\n",
       "      <td>ArdKn,Nirbhay kumar,Sagar Viswanathan,Asp,Plac...</td>\n",
       "      <td>RGIQEG07R9HS2,R1SMWZQ86XIN8U,R2J3Y1WL29GWDE,RY...</td>\n",
       "      <td>A Good Braided Cable for Your Type C Device,Go...</td>\n",
       "      <td>I ordered this cable to connect my phone to An...</td>\n",
       "      <td>https://m.media-amazon.com/images/W/WEBP_40237...</td>\n",
       "      <td>https://www.amazon.in/Ambrane-Unbreakable-Char...</td>\n",
       "    </tr>\n",
       "    <tr>\n",
       "      <th>2</th>\n",
       "      <td>B096MSW6CT</td>\n",
       "      <td>Sounce Fast Phone Charging Cable &amp; Data Sync U...</td>\n",
       "      <td>Computers&amp;Accessories|Accessories&amp;Peripherals|...</td>\n",
       "      <td>₹199</td>\n",
       "      <td>₹1,899</td>\n",
       "      <td>90%</td>\n",
       "      <td>3.9</td>\n",
       "      <td>7,928</td>\n",
       "      <td>【 Fast Charger&amp; Data Sync】-With built-in safet...</td>\n",
       "      <td>AGU3BBQ2V2DDAMOAKGFAWDDQ6QHA,AESFLDV2PT363T2AQ...</td>\n",
       "      <td>Kunal,Himanshu,viswanath,sai niharka,saqib mal...</td>\n",
       "      <td>R3J3EQQ9TZI5ZJ,R3E7WBGK7ID0KV,RWU79XKQ6I1QF,R2...</td>\n",
       "      <td>Good speed for earlier versions,Good Product,W...</td>\n",
       "      <td>Not quite durable and sturdy,https://m.media-a...</td>\n",
       "      <td>https://m.media-amazon.com/images/W/WEBP_40237...</td>\n",
       "      <td>https://www.amazon.in/Sounce-iPhone-Charging-C...</td>\n",
       "    </tr>\n",
       "    <tr>\n",
       "      <th>3</th>\n",
       "      <td>B08HDJ86NZ</td>\n",
       "      <td>boAt Deuce USB 300 2 in 1 Type-C &amp; Micro USB S...</td>\n",
       "      <td>Computers&amp;Accessories|Accessories&amp;Peripherals|...</td>\n",
       "      <td>₹329</td>\n",
       "      <td>₹699</td>\n",
       "      <td>53%</td>\n",
       "      <td>4.2</td>\n",
       "      <td>94,363</td>\n",
       "      <td>The boAt Deuce USB 300 2 in 1 cable is compati...</td>\n",
       "      <td>AEWAZDZZJLQUYVOVGBEUKSLXHQ5A,AG5HTSFRRE6NL3M5S...</td>\n",
       "      <td>Omkar dhale,JD,HEMALATHA,Ajwadh a.,amar singh ...</td>\n",
       "      <td>R3EEUZKKK9J36I,R3HJVYCLYOY554,REDECAZ7AMPQC,R1...</td>\n",
       "      <td>Good product,Good one,Nice,Really nice product...</td>\n",
       "      <td>Good product,long wire,Charges good,Nice,I bou...</td>\n",
       "      <td>https://m.media-amazon.com/images/I/41V5FtEWPk...</td>\n",
       "      <td>https://www.amazon.in/Deuce-300-Resistant-Tang...</td>\n",
       "    </tr>\n",
       "    <tr>\n",
       "      <th>4</th>\n",
       "      <td>B08CF3B7N1</td>\n",
       "      <td>Portronics Konnect L 1.2M Fast Charging 3A 8 P...</td>\n",
       "      <td>Computers&amp;Accessories|Accessories&amp;Peripherals|...</td>\n",
       "      <td>₹154</td>\n",
       "      <td>₹399</td>\n",
       "      <td>61%</td>\n",
       "      <td>4.2</td>\n",
       "      <td>16,905</td>\n",
       "      <td>[CHARGE &amp; SYNC FUNCTION]- This cable comes wit...</td>\n",
       "      <td>AE3Q6KSUK5P75D5HFYHCRAOLODSA,AFUGIFH5ZAFXRDSZH...</td>\n",
       "      <td>rahuls6099,Swasat Borah,Ajay Wadke,Pranali,RVK...</td>\n",
       "      <td>R1BP4L2HH9TFUP,R16PVJEXKV6QZS,R2UPDB81N66T4P,R...</td>\n",
       "      <td>As good as original,Decent,Good one for second...</td>\n",
       "      <td>Bought this instead of original apple, does th...</td>\n",
       "      <td>https://m.media-amazon.com/images/W/WEBP_40237...</td>\n",
       "      <td>https://www.amazon.in/Portronics-Konnect-POR-1...</td>\n",
       "    </tr>\n",
       "  </tbody>\n",
       "</table>\n",
       "</div>"
      ],
      "text/plain": [
       "   product_id                                       product_name  \\\n",
       "0  B07JW9H4J1  Wayona Nylon Braided USB to Lightning Fast Cha...   \n",
       "1  B098NS6PVG  Ambrane Unbreakable 60W / 3A Fast Charging 1.5...   \n",
       "2  B096MSW6CT  Sounce Fast Phone Charging Cable & Data Sync U...   \n",
       "3  B08HDJ86NZ  boAt Deuce USB 300 2 in 1 Type-C & Micro USB S...   \n",
       "4  B08CF3B7N1  Portronics Konnect L 1.2M Fast Charging 3A 8 P...   \n",
       "\n",
       "                                            category discounted_price  \\\n",
       "0  Computers&Accessories|Accessories&Peripherals|...             ₹399   \n",
       "1  Computers&Accessories|Accessories&Peripherals|...             ₹199   \n",
       "2  Computers&Accessories|Accessories&Peripherals|...             ₹199   \n",
       "3  Computers&Accessories|Accessories&Peripherals|...             ₹329   \n",
       "4  Computers&Accessories|Accessories&Peripherals|...             ₹154   \n",
       "\n",
       "  actual_price discount_percentage rating rating_count  \\\n",
       "0       ₹1,099                 64%    4.2       24,269   \n",
       "1         ₹349                 43%    4.0       43,994   \n",
       "2       ₹1,899                 90%    3.9        7,928   \n",
       "3         ₹699                 53%    4.2       94,363   \n",
       "4         ₹399                 61%    4.2       16,905   \n",
       "\n",
       "                                       about_product  \\\n",
       "0  High Compatibility : Compatible With iPhone 12...   \n",
       "1  Compatible with all Type C enabled devices, be...   \n",
       "2  【 Fast Charger& Data Sync】-With built-in safet...   \n",
       "3  The boAt Deuce USB 300 2 in 1 cable is compati...   \n",
       "4  [CHARGE & SYNC FUNCTION]- This cable comes wit...   \n",
       "\n",
       "                                             user_id  \\\n",
       "0  AG3D6O4STAQKAY2UVGEUV46KN35Q,AHMY5CWJMMK5BJRBB...   \n",
       "1  AECPFYFQVRUWC3KGNLJIOREFP5LQ,AGYYVPDD7YG7FYNBX...   \n",
       "2  AGU3BBQ2V2DDAMOAKGFAWDDQ6QHA,AESFLDV2PT363T2AQ...   \n",
       "3  AEWAZDZZJLQUYVOVGBEUKSLXHQ5A,AG5HTSFRRE6NL3M5S...   \n",
       "4  AE3Q6KSUK5P75D5HFYHCRAOLODSA,AFUGIFH5ZAFXRDSZH...   \n",
       "\n",
       "                                           user_name  \\\n",
       "0  Manav,Adarsh gupta,Sundeep,S.Sayeed Ahmed,jasp...   \n",
       "1  ArdKn,Nirbhay kumar,Sagar Viswanathan,Asp,Plac...   \n",
       "2  Kunal,Himanshu,viswanath,sai niharka,saqib mal...   \n",
       "3  Omkar dhale,JD,HEMALATHA,Ajwadh a.,amar singh ...   \n",
       "4  rahuls6099,Swasat Borah,Ajay Wadke,Pranali,RVK...   \n",
       "\n",
       "                                           review_id  \\\n",
       "0  R3HXWT0LRP0NMF,R2AJM3LFTLZHFO,R6AQJGUP6P86,R1K...   \n",
       "1  RGIQEG07R9HS2,R1SMWZQ86XIN8U,R2J3Y1WL29GWDE,RY...   \n",
       "2  R3J3EQQ9TZI5ZJ,R3E7WBGK7ID0KV,RWU79XKQ6I1QF,R2...   \n",
       "3  R3EEUZKKK9J36I,R3HJVYCLYOY554,REDECAZ7AMPQC,R1...   \n",
       "4  R1BP4L2HH9TFUP,R16PVJEXKV6QZS,R2UPDB81N66T4P,R...   \n",
       "\n",
       "                                        review_title  \\\n",
       "0  Satisfied,Charging is really fast,Value for mo...   \n",
       "1  A Good Braided Cable for Your Type C Device,Go...   \n",
       "2  Good speed for earlier versions,Good Product,W...   \n",
       "3  Good product,Good one,Nice,Really nice product...   \n",
       "4  As good as original,Decent,Good one for second...   \n",
       "\n",
       "                                      review_content  \\\n",
       "0  Looks durable Charging is fine tooNo complains...   \n",
       "1  I ordered this cable to connect my phone to An...   \n",
       "2  Not quite durable and sturdy,https://m.media-a...   \n",
       "3  Good product,long wire,Charges good,Nice,I bou...   \n",
       "4  Bought this instead of original apple, does th...   \n",
       "\n",
       "                                            img_link  \\\n",
       "0  https://m.media-amazon.com/images/W/WEBP_40237...   \n",
       "1  https://m.media-amazon.com/images/W/WEBP_40237...   \n",
       "2  https://m.media-amazon.com/images/W/WEBP_40237...   \n",
       "3  https://m.media-amazon.com/images/I/41V5FtEWPk...   \n",
       "4  https://m.media-amazon.com/images/W/WEBP_40237...   \n",
       "\n",
       "                                        product_link  \n",
       "0  https://www.amazon.in/Wayona-Braided-WN3LG1-Sy...  \n",
       "1  https://www.amazon.in/Ambrane-Unbreakable-Char...  \n",
       "2  https://www.amazon.in/Sounce-iPhone-Charging-C...  \n",
       "3  https://www.amazon.in/Deuce-300-Resistant-Tang...  \n",
       "4  https://www.amazon.in/Portronics-Konnect-POR-1...  "
      ]
     },
     "execution_count": 3,
     "metadata": {},
     "output_type": "execute_result"
    }
   ],
   "source": [
    "df.head(5)"
   ]
  },
  {
   "cell_type": "code",
   "execution_count": 4,
   "id": "6e3648eb-859f-4acb-878d-4483afceefd7",
   "metadata": {},
   "outputs": [
    {
     "data": {
      "text/plain": [
       "(1465, 16)"
      ]
     },
     "execution_count": 4,
     "metadata": {},
     "output_type": "execute_result"
    }
   ],
   "source": [
    "df.shape"
   ]
  },
  {
   "cell_type": "code",
   "execution_count": 5,
   "id": "06109a30-a14b-4d10-a226-19c53824b4b0",
   "metadata": {},
   "outputs": [
    {
     "name": "stdout",
     "output_type": "stream",
     "text": [
      "<class 'pandas.core.frame.DataFrame'>\n",
      "RangeIndex: 1465 entries, 0 to 1464\n",
      "Data columns (total 16 columns):\n",
      " #   Column               Non-Null Count  Dtype \n",
      "---  ------               --------------  ----- \n",
      " 0   product_id           1465 non-null   object\n",
      " 1   product_name         1465 non-null   object\n",
      " 2   category             1465 non-null   object\n",
      " 3   discounted_price     1465 non-null   object\n",
      " 4   actual_price         1465 non-null   object\n",
      " 5   discount_percentage  1465 non-null   object\n",
      " 6   rating               1465 non-null   object\n",
      " 7   rating_count         1463 non-null   object\n",
      " 8   about_product        1465 non-null   object\n",
      " 9   user_id              1465 non-null   object\n",
      " 10  user_name            1465 non-null   object\n",
      " 11  review_id            1465 non-null   object\n",
      " 12  review_title         1465 non-null   object\n",
      " 13  review_content       1465 non-null   object\n",
      " 14  img_link             1465 non-null   object\n",
      " 15  product_link         1465 non-null   object\n",
      "dtypes: object(16)\n",
      "memory usage: 183.3+ KB\n"
     ]
    }
   ],
   "source": [
    "df.info()"
   ]
  },
  {
   "cell_type": "code",
   "execution_count": 6,
   "id": "3d30c29d-df4d-4855-a157-042012dcbc37",
   "metadata": {},
   "outputs": [
    {
     "data": {
      "text/plain": [
       "product_id             0\n",
       "product_name           0\n",
       "category               0\n",
       "discounted_price       0\n",
       "actual_price           0\n",
       "discount_percentage    0\n",
       "rating                 0\n",
       "rating_count           2\n",
       "about_product          0\n",
       "user_id                0\n",
       "user_name              0\n",
       "review_id              0\n",
       "review_title           0\n",
       "review_content         0\n",
       "img_link               0\n",
       "product_link           0\n",
       "dtype: int64"
      ]
     },
     "execution_count": 6,
     "metadata": {},
     "output_type": "execute_result"
    }
   ],
   "source": [
    "#to check if there is null values\n",
    "df.isnull().sum()"
   ]
  },
  {
   "cell_type": "code",
   "execution_count": 7,
   "id": "1c0278f2-dee0-4c89-b564-012286bc3b5d",
   "metadata": {},
   "outputs": [],
   "source": [
    "df.dropna(inplace=True) #to drop the null values"
   ]
  },
  {
   "cell_type": "code",
   "execution_count": 8,
   "id": "aa5a36b4-872b-4af6-9709-25a701cf6a52",
   "metadata": {},
   "outputs": [
    {
     "data": {
      "text/plain": [
       "product_id             0\n",
       "product_name           0\n",
       "category               0\n",
       "discounted_price       0\n",
       "actual_price           0\n",
       "discount_percentage    0\n",
       "rating                 0\n",
       "rating_count           0\n",
       "about_product          0\n",
       "user_id                0\n",
       "user_name              0\n",
       "review_id              0\n",
       "review_title           0\n",
       "review_content         0\n",
       "img_link               0\n",
       "product_link           0\n",
       "dtype: int64"
      ]
     },
     "execution_count": 8,
     "metadata": {},
     "output_type": "execute_result"
    }
   ],
   "source": [
    "df.isnull().sum()"
   ]
  },
  {
   "cell_type": "code",
   "execution_count": 9,
   "id": "eda91329-3e14-4e6a-8b71-5071a5364084",
   "metadata": {},
   "outputs": [
    {
     "data": {
      "text/plain": [
       "Index(['product_id', 'product_name', 'category', 'discounted_price',\n",
       "       'actual_price', 'discount_percentage', 'rating', 'rating_count',\n",
       "       'about_product', 'user_id', 'user_name', 'review_id', 'review_title',\n",
       "       'review_content', 'img_link', 'product_link'],\n",
       "      dtype='object')"
      ]
     },
     "execution_count": 9,
     "metadata": {},
     "output_type": "execute_result"
    }
   ],
   "source": [
    "df.columns"
   ]
  },
  {
   "cell_type": "code",
   "execution_count": 10,
   "id": "982b7849-4a1b-4cae-89a1-e9f8673d65c3",
   "metadata": {},
   "outputs": [],
   "source": [
    "df.drop(['img_link'],axis=1,inplace=True)"
   ]
  },
  {
   "cell_type": "code",
   "execution_count": 11,
   "id": "87fe3635-d340-46f4-92d2-4ea436d3b9a3",
   "metadata": {},
   "outputs": [],
   "source": [
    "# Changing the data type of discounted price and actual price\n",
    "\n",
    "df['discounted_price'] = df['discounted_price'].str.replace(\"₹\",'')\n",
    "df['discounted_price'] = df['discounted_price'].str.replace(\",\",'')\n",
    "df['discounted_price'] = df['discounted_price'].astype('float64')\n",
    "\n",
    "df['actual_price'] = df['actual_price'].str.replace(\"₹\",'')\n",
    "df['actual_price'] = df['actual_price'].str.replace(\",\",'')\n",
    "df['actual_price'] = df['actual_price'].astype('float64')"
   ]
  },
  {
   "cell_type": "code",
   "execution_count": 12,
   "id": "4496e7cb-2455-4b98-ae22-f71830c2d5c2",
   "metadata": {},
   "outputs": [
    {
     "data": {
      "text/plain": [
       "dtype('float64')"
      ]
     },
     "execution_count": 12,
     "metadata": {},
     "output_type": "execute_result"
    }
   ],
   "source": [
    "#to check whether the data type has changed\n",
    "df['discounted_price'].dtypes\n",
    "df['actual_price'].dtypes"
   ]
  },
  {
   "cell_type": "code",
   "execution_count": 14,
   "id": "c74f6a67-7a45-4744-9b7e-d217b1134793",
   "metadata": {},
   "outputs": [],
   "source": [
    "df['discount_percentage'] = ((df['actual_price'] - df['discounted_price']) / df['actual_price']) * 100"
   ]
  },
  {
   "cell_type": "code",
   "execution_count": 15,
   "id": "e045ba9d-b3c0-43b8-b892-e314b049a97d",
   "metadata": {},
   "outputs": [
    {
     "data": {
      "text/html": [
       "<div>\n",
       "<style scoped>\n",
       "    .dataframe tbody tr th:only-of-type {\n",
       "        vertical-align: middle;\n",
       "    }\n",
       "\n",
       "    .dataframe tbody tr th {\n",
       "        vertical-align: top;\n",
       "    }\n",
       "\n",
       "    .dataframe thead th {\n",
       "        text-align: right;\n",
       "    }\n",
       "</style>\n",
       "<table border=\"1\" class=\"dataframe\">\n",
       "  <thead>\n",
       "    <tr style=\"text-align: right;\">\n",
       "      <th></th>\n",
       "      <th>discounted_price</th>\n",
       "      <th>actual_price</th>\n",
       "      <th>discount_percentage</th>\n",
       "    </tr>\n",
       "  </thead>\n",
       "  <tbody>\n",
       "    <tr>\n",
       "      <th>count</th>\n",
       "      <td>1463.000000</td>\n",
       "      <td>1463.000000</td>\n",
       "      <td>1463.000000</td>\n",
       "    </tr>\n",
       "    <tr>\n",
       "      <th>mean</th>\n",
       "      <td>3129.277122</td>\n",
       "      <td>5451.068544</td>\n",
       "      <td>47.644059</td>\n",
       "    </tr>\n",
       "    <tr>\n",
       "      <th>std</th>\n",
       "      <td>6948.222850</td>\n",
       "      <td>10881.018448</td>\n",
       "      <td>21.622576</td>\n",
       "    </tr>\n",
       "    <tr>\n",
       "      <th>min</th>\n",
       "      <td>39.000000</td>\n",
       "      <td>39.000000</td>\n",
       "      <td>0.000000</td>\n",
       "    </tr>\n",
       "    <tr>\n",
       "      <th>25%</th>\n",
       "      <td>325.000000</td>\n",
       "      <td>800.000000</td>\n",
       "      <td>31.969390</td>\n",
       "    </tr>\n",
       "    <tr>\n",
       "      <th>50%</th>\n",
       "      <td>799.000000</td>\n",
       "      <td>1690.000000</td>\n",
       "      <td>50.016672</td>\n",
       "    </tr>\n",
       "    <tr>\n",
       "      <th>75%</th>\n",
       "      <td>1999.000000</td>\n",
       "      <td>4312.500000</td>\n",
       "      <td>62.870615</td>\n",
       "    </tr>\n",
       "    <tr>\n",
       "      <th>max</th>\n",
       "      <td>77990.000000</td>\n",
       "      <td>139900.000000</td>\n",
       "      <td>94.118824</td>\n",
       "    </tr>\n",
       "  </tbody>\n",
       "</table>\n",
       "</div>"
      ],
      "text/plain": [
       "       discounted_price   actual_price  discount_percentage\n",
       "count       1463.000000    1463.000000          1463.000000\n",
       "mean        3129.277122    5451.068544            47.644059\n",
       "std         6948.222850   10881.018448            21.622576\n",
       "min           39.000000      39.000000             0.000000\n",
       "25%          325.000000     800.000000            31.969390\n",
       "50%          799.000000    1690.000000            50.016672\n",
       "75%         1999.000000    4312.500000            62.870615\n",
       "max        77990.000000  139900.000000            94.118824"
      ]
     },
     "execution_count": 15,
     "metadata": {},
     "output_type": "execute_result"
    }
   ],
   "source": [
    "df.describe()"
   ]
  },
  {
   "cell_type": "code",
   "execution_count": 16,
   "id": "e62ba390-538e-46eb-9816-af8f0888333f",
   "metadata": {},
   "outputs": [],
   "source": [
    "#  Replace non-numeric values with NaN\n",
    "df['rating'] = pd.to_numeric(df['rating'], errors='coerce')\n",
    "df = df.dropna(subset=['rating'])\n",
    "\n",
    "# Convert the `rating` column to float explicitly using .loc\n",
    "df.loc[:, 'rating'] = df['rating'].astype(float)\n",
    "df['rating'] = df['rating'].astype('float64')\n"
   ]
  },
  {
   "cell_type": "code",
   "execution_count": 17,
   "id": "b18bd21e-874d-4940-8ae6-26f9fdc1d379",
   "metadata": {},
   "outputs": [
    {
     "data": {
      "text/html": [
       "<div>\n",
       "<style scoped>\n",
       "    .dataframe tbody tr th:only-of-type {\n",
       "        vertical-align: middle;\n",
       "    }\n",
       "\n",
       "    .dataframe tbody tr th {\n",
       "        vertical-align: top;\n",
       "    }\n",
       "\n",
       "    .dataframe thead th {\n",
       "        text-align: right;\n",
       "    }\n",
       "</style>\n",
       "<table border=\"1\" class=\"dataframe\">\n",
       "  <thead>\n",
       "    <tr style=\"text-align: right;\">\n",
       "      <th></th>\n",
       "      <th>discounted_price</th>\n",
       "      <th>actual_price</th>\n",
       "      <th>discount_percentage</th>\n",
       "      <th>rating</th>\n",
       "    </tr>\n",
       "  </thead>\n",
       "  <tbody>\n",
       "    <tr>\n",
       "      <th>count</th>\n",
       "      <td>1462.000000</td>\n",
       "      <td>1462.000000</td>\n",
       "      <td>1462.000000</td>\n",
       "      <td>1462.000000</td>\n",
       "    </tr>\n",
       "    <tr>\n",
       "      <th>mean</th>\n",
       "      <td>3129.981826</td>\n",
       "      <td>5453.087743</td>\n",
       "      <td>47.665699</td>\n",
       "      <td>4.096717</td>\n",
       "    </tr>\n",
       "    <tr>\n",
       "      <th>std</th>\n",
       "      <td>6950.548042</td>\n",
       "      <td>10884.467444</td>\n",
       "      <td>21.614122</td>\n",
       "      <td>0.289497</td>\n",
       "    </tr>\n",
       "    <tr>\n",
       "      <th>min</th>\n",
       "      <td>39.000000</td>\n",
       "      <td>39.000000</td>\n",
       "      <td>0.000000</td>\n",
       "      <td>2.000000</td>\n",
       "    </tr>\n",
       "    <tr>\n",
       "      <th>25%</th>\n",
       "      <td>325.000000</td>\n",
       "      <td>800.000000</td>\n",
       "      <td>32.001280</td>\n",
       "      <td>4.000000</td>\n",
       "    </tr>\n",
       "    <tr>\n",
       "      <th>50%</th>\n",
       "      <td>799.000000</td>\n",
       "      <td>1670.000000</td>\n",
       "      <td>50.016672</td>\n",
       "      <td>4.100000</td>\n",
       "    </tr>\n",
       "    <tr>\n",
       "      <th>75%</th>\n",
       "      <td>1999.000000</td>\n",
       "      <td>4321.250000</td>\n",
       "      <td>62.872861</td>\n",
       "      <td>4.300000</td>\n",
       "    </tr>\n",
       "    <tr>\n",
       "      <th>max</th>\n",
       "      <td>77990.000000</td>\n",
       "      <td>139900.000000</td>\n",
       "      <td>94.118824</td>\n",
       "      <td>5.000000</td>\n",
       "    </tr>\n",
       "  </tbody>\n",
       "</table>\n",
       "</div>"
      ],
      "text/plain": [
       "       discounted_price   actual_price  discount_percentage       rating\n",
       "count       1462.000000    1462.000000          1462.000000  1462.000000\n",
       "mean        3129.981826    5453.087743            47.665699     4.096717\n",
       "std         6950.548042   10884.467444            21.614122     0.289497\n",
       "min           39.000000      39.000000             0.000000     2.000000\n",
       "25%          325.000000     800.000000            32.001280     4.000000\n",
       "50%          799.000000    1670.000000            50.016672     4.100000\n",
       "75%         1999.000000    4321.250000            62.872861     4.300000\n",
       "max        77990.000000  139900.000000            94.118824     5.000000"
      ]
     },
     "execution_count": 17,
     "metadata": {},
     "output_type": "execute_result"
    }
   ],
   "source": [
    "df.describe()"
   ]
  },
  {
   "cell_type": "code",
   "execution_count": 18,
   "id": "334a0605-d5bc-46ea-b60a-e34ad5fc4fd5",
   "metadata": {
    "scrolled": true
   },
   "outputs": [
    {
     "name": "stdout",
     "output_type": "stream",
     "text": [
      "['Computers&Accessories|Accessories&Peripherals|Cables&Accessories|Cables|USBCables'\n",
      " 'Computers&Accessories|NetworkingDevices|NetworkAdapters|WirelessUSBAdapters'\n",
      " 'Electronics|HomeTheater,TV&Video|Accessories|Cables|HDMICables'\n",
      " 'Electronics|HomeTheater,TV&Video|Televisions|SmartTelevisions'\n",
      " 'Electronics|HomeTheater,TV&Video|Accessories|RemoteControls'\n",
      " 'Electronics|HomeTheater,TV&Video|Televisions|StandardTelevisions'\n",
      " 'Electronics|HomeTheater,TV&Video|Accessories|TVMounts,Stands&Turntables|TVWall&CeilingMounts'\n",
      " 'Electronics|HomeTheater,TV&Video|Accessories|Cables|RCACables'\n",
      " 'Electronics|HomeAudio|Accessories|SpeakerAccessories|Mounts'\n",
      " 'Electronics|HomeTheater,TV&Video|Accessories|Cables|OpticalCables'\n",
      " 'Electronics|HomeTheater,TV&Video|Projectors'\n",
      " 'Electronics|HomeAudio|Accessories|Adapters'\n",
      " 'Electronics|HomeTheater,TV&Video|SatelliteEquipment|SatelliteReceivers'\n",
      " 'Computers&Accessories|Accessories&Peripherals|Cables&Accessories|Cables|DVICables'\n",
      " 'Electronics|HomeTheater,TV&Video|Accessories|Cables|SpeakerCables'\n",
      " 'Electronics|HomeAudio|MediaStreamingDevices|StreamingClients'\n",
      " 'Electronics|HomeTheater,TV&Video|AVReceivers&Amplifiers'\n",
      " 'Electronics|HomeAudio|Speakers|TowerSpeakers'\n",
      " 'Electronics|HomeTheater,TV&Video|Accessories|3DGlasses'\n",
      " 'Electronics|WearableTechnology|SmartWatches'\n",
      " 'Electronics|Mobiles&Accessories|MobileAccessories|Chargers|PowerBanks'\n",
      " 'Electronics|Mobiles&Accessories|Smartphones&BasicMobiles|Smartphones'\n",
      " 'Electronics|Accessories|MemoryCards|MicroSD'\n",
      " 'Electronics|Mobiles&Accessories|Smartphones&BasicMobiles|BasicMobiles'\n",
      " 'Electronics|Headphones,Earbuds&Accessories|Headphones|In-Ear'\n",
      " 'Electronics|Mobiles&Accessories|MobileAccessories|Chargers|AutomobileChargers'\n",
      " 'Electronics|Mobiles&Accessories|MobileAccessories|AutomobileAccessories|Cradles'\n",
      " 'Electronics|Mobiles&Accessories|MobileAccessories|Chargers|WallChargers'\n",
      " 'Electronics|Mobiles&Accessories|MobileAccessories|Cables&Adapters|OTGAdapters'\n",
      " 'Electronics|Mobiles&Accessories|MobileAccessories|Photo&VideoAccessories|Tripods'\n",
      " 'Electronics|Mobiles&Accessories|MobileAccessories|Photo&VideoAccessories|SelfieSticks'\n",
      " 'Electronics|Mobiles&Accessories|MobileAccessories|Stands'\n",
      " 'Computers&Accessories|Accessories&Peripherals|Cables&Accessories|CableConnectionProtectors'\n",
      " 'Electronics|Mobiles&Accessories|MobileAccessories|Décor'\n",
      " 'Electronics|Mobiles&Accessories|MobileAccessories|Maintenance,Upkeep&Repairs|ScreenProtectors'\n",
      " 'Electronics|Mobiles&Accessories|MobileAccessories|StylusPens'\n",
      " 'Electronics|Mobiles&Accessories|MobileAccessories|Mounts|Bedstand&DeskMounts'\n",
      " 'Electronics|Mobiles&Accessories|MobileAccessories|Cases&Covers|BasicCases'\n",
      " 'Electronics|Mobiles&Accessories|MobileAccessories|Mounts|HandlebarMounts'\n",
      " 'Electronics|Headphones,Earbuds&Accessories|Headphones|On-Ear'\n",
      " 'Computers&Accessories|Accessories&Peripherals|LaptopAccessories|CameraPrivacyCovers'\n",
      " 'Electronics|Headphones,Earbuds&Accessories|Adapters'\n",
      " 'Electronics|Mobiles&Accessories|MobileAccessories|Décor|PhoneCharms'\n",
      " 'Electronics|Mobiles&Accessories|MobileAccessories|Mounts|Shower&WallMounts'\n",
      " 'Computers&Accessories|ExternalDevices&DataStorage|PenDrives'\n",
      " 'Computers&Accessories|Accessories&Peripherals|Keyboards,Mice&InputDevices|Mice'\n",
      " 'Computers&Accessories|Accessories&Peripherals|Keyboards,Mice&InputDevices|GraphicTablets'\n",
      " 'Computers&Accessories|Accessories&Peripherals|LaptopAccessories|Lapdesks'\n",
      " 'Computers&Accessories|Accessories&Peripherals|LaptopAccessories|NotebookComputerStands'\n",
      " 'Computers&Accessories|Accessories&Peripherals|Keyboards,Mice&InputDevices|Keyboards'\n",
      " 'MusicalInstruments|Microphones|Condenser'\n",
      " 'Electronics|GeneralPurposeBatteries&BatteryChargers|DisposableBatteries'\n",
      " 'OfficeProducts|OfficePaperProducts|Paper|Stationery|Pens,Pencils&WritingSupplies|Pens&Refills|GelInkRollerballPens'\n",
      " 'Home&Kitchen|CraftMaterials|Scrapbooking|Tape'\n",
      " 'Computers&Accessories|Accessories&Peripherals|Keyboards,Mice&InputDevices|Keyboard&MouseSets'\n",
      " 'Computers&Accessories|ExternalDevices&DataStorage|ExternalHardDisks'\n",
      " 'Electronics|Cameras&Photography|VideoCameras'\n",
      " 'Electronics|Cameras&Photography|Accessories|Tripods&Monopods|Tabletop&TravelTripods'\n",
      " 'OfficeProducts|OfficeElectronics|Calculators|Scientific'\n",
      " 'Computers&Accessories|NetworkingDevices|Repeaters&Extenders'\n",
      " 'Electronics|Cameras&Photography|Accessories|Tripods&Monopods|TripodLegs'\n",
      " 'Computers&Accessories|Printers,Inks&Accessories|Inks,Toners&Cartridges|InkjetInkCartridges'\n",
      " 'Computers&Accessories|Accessories&Peripherals|Keyboards,Mice&InputDevices|Keyboard&MiceAccessories|DustCovers'\n",
      " 'Computers&Accessories|Accessories&Peripherals|PCGamingPeripherals|GamingMice'\n",
      " 'Home&Kitchen|CraftMaterials|PaintingMaterials|Paints'\n",
      " 'Computers&Accessories|Accessories&Peripherals|Keyboards,Mice&InputDevices|Keyboard&MiceAccessories|MousePads'\n",
      " 'Computers&Accessories|Accessories&Peripherals|HardDiskBags'\n",
      " 'Electronics|Cameras&Photography|Flashes|Macro&RinglightFlashes'\n",
      " 'Computers&Accessories|NetworkingDevices'\n",
      " 'Computers&Accessories|NetworkingDevices|Routers'\n",
      " 'Electronics|Headphones,Earbuds&Accessories|Headphones|Over-Ear'\n",
      " 'Electronics|HomeAudio|Speakers|BluetoothSpeakers'\n",
      " 'Electronics|GeneralPurposeBatteries&BatteryChargers'\n",
      " 'OfficeProducts|OfficePaperProducts|Paper|Stationery|Notebooks,WritingPads&Diaries|WireboundNotebooks'\n",
      " 'Electronics|GeneralPurposeBatteries&BatteryChargers|RechargeableBatteries'\n",
      " 'Computers&Accessories|NetworkingDevices|NetworkAdapters|BluetoothAdapters'\n",
      " 'Computers&Accessories|Accessories&Peripherals|Adapters|USBtoUSBAdapters'\n",
      " 'Electronics|Cameras&Photography|Accessories|Tripods&Monopods|CompleteTripodUnits'\n",
      " 'OfficeProducts|OfficePaperProducts|Paper|Stationery|Notebooks,WritingPads&Diaries|Notepads&MemoBooks'\n",
      " 'Electronics|Cameras&Photography|Accessories|Film'\n",
      " 'Computers&Accessories|Monitors'\n",
      " 'Computers&Accessories|Accessories&Peripherals|USBGadgets|Lamps'\n",
      " 'Electronics|Cameras&Photography|Accessories|Cleaners|CleaningKits'\n",
      " 'Electronics|Cameras&Photography|SecurityCameras|DomeCameras'\n",
      " 'Computers&Accessories|Accessories&Peripherals|TabletAccessories|ScreenProtectors'\n",
      " 'Computers&Accessories|Accessories&Peripherals|PCGamingPeripherals|Gamepads'\n",
      " 'OfficeProducts|OfficeElectronics|Calculators|Basic'\n",
      " 'Computers&Accessories|Accessories&Peripherals|USBHubs'\n",
      " 'Computers&Accessories|Accessories&Peripherals|Audio&VideoAccessories|PCMicrophones'\n",
      " 'Electronics|HomeAudio|Speakers|OutdoorSpeakers'\n",
      " 'Computers&Accessories|Accessories&Peripherals|LaptopAccessories|Bags&Sleeves|LaptopSleeves&Slipcases'\n",
      " 'Computers&Accessories|ExternalDevices&DataStorage|ExternalMemoryCardReaders'\n",
      " 'OfficeProducts|OfficePaperProducts|Paper|Stationery|Pens,Pencils&WritingSupplies|Pens&Refills|BottledInk'\n",
      " 'OfficeProducts|OfficePaperProducts|Paper|Stationery|Notebooks,WritingPads&Diaries|CompositionNotebooks'\n",
      " 'OfficeProducts|OfficePaperProducts|Paper|Stationery|Pens,Pencils&WritingSupplies|Pens&Refills|RetractableBallpointPens'\n",
      " 'Computers&Accessories|Accessories&Peripherals|Cables&Accessories|Cables|EthernetCables'\n",
      " 'Computers&Accessories|Components|Memory'\n",
      " 'Computers&Accessories|Accessories&Peripherals|UninterruptedPowerSupplies'\n",
      " 'Electronics|Headphones,Earbuds&Accessories|Cases'\n",
      " 'Electronics|Accessories|MemoryCards|SecureDigitalCards'\n",
      " 'Electronics|Mobiles&Accessories|MobileAccessories|Photo&VideoAccessories|Flashes&SelfieLights|SelfieLights'\n",
      " 'Computers&Accessories|Accessories&Peripherals|Audio&VideoAccessories|Webcams&VoIPEquipment|Webcams'\n",
      " 'Computers&Accessories|Accessories&Peripherals|LaptopAccessories|CoolingPads'\n",
      " 'Computers&Accessories|Accessories&Peripherals|LaptopAccessories'\n",
      " 'Computers&Accessories|Accessories&Peripherals|TabletAccessories|Stands'\n",
      " 'HomeImprovement|Electrical|Adapters&Multi-Outlets'\n",
      " 'OfficeProducts|OfficePaperProducts|Paper|Copy&PrintingPaper|ColouredPaper'\n",
      " 'Computers&Accessories|Components|InternalSolidStateDrives'\n",
      " 'Electronics|HomeAudio|Speakers|MultimediaSpeakerSystems'\n",
      " 'Computers&Accessories|NetworkingDevices|DataCards&Dongles'\n",
      " 'Computers&Accessories|Accessories&Peripherals|LaptopAccessories|LaptopChargers&PowerSupplies'\n",
      " 'Computers&Accessories|Accessories&Peripherals|Audio&VideoAccessories|PCSpeakers'\n",
      " 'Electronics|Cameras&Photography|Accessories|Batteries&Chargers|BatteryChargers'\n",
      " 'Computers&Accessories|Accessories&Peripherals|TabletAccessories|Bags,Cases&Sleeves|Cases'\n",
      " 'OfficeProducts|OfficePaperProducts|Paper|Stationery|Pens,Pencils&WritingSupplies|Pens&Refills|StickBallpointPens'\n",
      " 'Home&Kitchen|CraftMaterials|DrawingMaterials|DrawingMedia|Pencils|WoodenPencils'\n",
      " 'Computers&Accessories|Components|InternalHardDrives'\n",
      " 'Computers&Accessories|Printers,Inks&Accessories|Printers'\n",
      " 'Home&Kitchen|CraftMaterials|DrawingMaterials|DrawingMedia|Pens'\n",
      " 'Computers&Accessories|Accessories&Peripherals|Cables&Accessories|Cables|SATACables'\n",
      " 'Computers&Accessories|Accessories&Peripherals|Audio&VideoAccessories|PCHeadsets'\n",
      " 'Computers&Accessories|Accessories&Peripherals|PCGamingPeripherals|GamingKeyboards'\n",
      " 'Electronics|HomeAudio|Speakers|SoundbarSpeakers'\n",
      " 'Electronics|Headphones,Earbuds&Accessories|Earpads'\n",
      " 'Computers&Accessories|Printers,Inks&Accessories|Printers|InkjetPrinters'\n",
      " 'Toys&Games|Arts&Crafts|Drawing&PaintingSupplies|ColouringPens&Markers'\n",
      " 'Computers&Accessories|Accessories&Peripherals|PCGamingPeripherals|Headsets'\n",
      " 'Computers&Accessories|ExternalDevices&DataStorage|ExternalSolidStateDrives'\n",
      " 'Computers&Accessories|NetworkingDevices|NetworkAdapters|PowerLANAdapters'\n",
      " 'Computers&Accessories|Printers,Inks&Accessories|Inks,Toners&Cartridges|InkjetInkRefills&Kits'\n",
      " 'OfficeProducts|OfficePaperProducts|Paper|Stationery|Notebooks,WritingPads&Diaries'\n",
      " 'Electronics|Cameras&Photography|Accessories|PhotoStudio&Lighting|PhotoBackgroundAccessories|BackgroundSupports'\n",
      " 'OfficeProducts|OfficeElectronics|Calculators|Financial&Business'\n",
      " 'Electronics|PowerAccessories|SurgeProtectors'\n",
      " 'Computers&Accessories|Tablets'\n",
      " 'HomeImprovement|Electrical|CordManagement'\n",
      " 'Home&Kitchen|CraftMaterials|PaintingMaterials'\n",
      " 'Computers&Accessories|Printers,Inks&Accessories|Inks,Toners&Cartridges|TonerCartridges'\n",
      " 'OfficeProducts|OfficePaperProducts|Paper|Stationery|Pens,Pencils&WritingSupplies|Pens&Refills|LiquidInkRollerballPens'\n",
      " 'OfficeProducts|OfficePaperProducts|Paper|Stationery|Pens,Pencils&WritingSupplies|Pens&Refills|FountainPens'\n",
      " 'Computers&Accessories|Accessories&Peripherals|HardDriveAccessories|Caddies'\n",
      " 'Computers&Accessories|Laptops|TraditionalLaptops'\n",
      " 'Home&Kitchen|Kitchen&HomeAppliances|SmallKitchenAppliances|Kettles&HotWaterDispensers|ElectricKettles'\n",
      " 'Home&Kitchen|Heating,Cooling&AirQuality|RoomHeaters|ElectricHeaters'\n",
      " 'Home&Kitchen|Heating,Cooling&AirQuality|RoomHeaters|FanHeaters'\n",
      " 'Home&Kitchen|Kitchen&HomeAppliances|Vacuum,Cleaning&Ironing|Irons,Steamers&Accessories|LintShavers'\n",
      " 'Home&Kitchen|Kitchen&HomeAppliances|SmallKitchenAppliances|DigitalKitchenScales'\n",
      " 'Home&Kitchen|Kitchen&Dining|KitchenTools|ManualChoppers&Chippers|Choppers'\n",
      " 'Home&Kitchen|Kitchen&HomeAppliances|SmallKitchenAppliances|InductionCooktop'\n",
      " 'Home&Kitchen|Kitchen&HomeAppliances|SmallKitchenAppliances|HandBlenders'\n",
      " 'Home&Kitchen|Kitchen&HomeAppliances|Vacuum,Cleaning&Ironing|Irons,Steamers&Accessories|Irons|DryIrons'\n",
      " 'Home&Kitchen|Kitchen&HomeAppliances|SmallKitchenAppliances|MixerGrinders'\n",
      " 'Home&Kitchen|Heating,Cooling&AirQuality|WaterHeaters&Geysers|InstantWaterHeaters'\n",
      " 'Home&Kitchen|Heating,Cooling&AirQuality|RoomHeaters'\n",
      " 'Home&Kitchen|Kitchen&HomeAppliances|SmallKitchenAppliances|Kettles&HotWaterDispensers|Kettle&ToasterSets'\n",
      " 'Home&Kitchen|Heating,Cooling&AirQuality|WaterHeaters&Geysers|StorageWaterHeaters'\n",
      " 'Home&Kitchen|Heating,Cooling&AirQuality|WaterHeaters&Geysers|ImmersionRods'\n",
      " 'Home&Kitchen|Kitchen&HomeAppliances|SmallKitchenAppliances|DeepFatFryers|AirFryers'\n",
      " 'Home&Kitchen|HomeStorage&Organization|LaundryOrganization|LaundryBaskets'\n",
      " 'Home&Kitchen|Kitchen&HomeAppliances|Vacuum,Cleaning&Ironing|Irons,Steamers&Accessories|Irons|SteamIrons'\n",
      " 'Home&Kitchen|Kitchen&HomeAppliances|SmallKitchenAppliances|JuicerMixerGrinders'\n",
      " 'Home&Kitchen|Kitchen&HomeAppliances|Vacuum,Cleaning&Ironing|Vacuums&FloorCare|Vacuums|HandheldVacuums'\n",
      " 'Home&Kitchen|Kitchen&HomeAppliances|SmallKitchenAppliances|EggBoilers'\n",
      " 'Home&Kitchen|Kitchen&HomeAppliances|SmallKitchenAppliances|SandwichMakers'\n",
      " 'Home&Kitchen|Kitchen&HomeAppliances|SmallKitchenAppliances|MiniFoodProcessors&Choppers'\n",
      " 'Home&Kitchen|Kitchen&HomeAppliances|SmallKitchenAppliances|DigitalKitchenScales|DigitalScales'\n",
      " 'Home&Kitchen|Kitchen&HomeAppliances|SmallKitchenAppliances|VacuumSealers'\n",
      " 'Home&Kitchen|Heating,Cooling&AirQuality|Fans|CeilingFans'\n",
      " 'Home&Kitchen|Kitchen&HomeAppliances|Vacuum,Cleaning&Ironing|Vacuums&FloorCare|Vacuums|CanisterVacuums'\n",
      " 'Home&Kitchen|Kitchen&HomeAppliances|Vacuum,Cleaning&Ironing|PressureWashers,Steam&WindowCleaners'\n",
      " 'Home&Kitchen|Heating,Cooling&AirQuality|RoomHeaters|HalogenHeaters'\n",
      " 'Home&Kitchen|Kitchen&HomeAppliances|SmallKitchenAppliances|Pop-upToasters'\n",
      " 'Home&Kitchen|Heating,Cooling&AirQuality|RoomHeaters|HeatConvectors'\n",
      " 'Home&Kitchen|Kitchen&HomeAppliances|Coffee,Tea&Espresso|CoffeeGrinders|ElectricGrinders'\n",
      " 'Home&Kitchen|Heating,Cooling&AirQuality|Fans|ExhaustFans'\n",
      " 'Home&Kitchen|Kitchen&HomeAppliances|Coffee,Tea&Espresso|DripCoffeeMachines'\n",
      " 'Home&Kitchen|Kitchen&HomeAppliances|WaterPurifiers&Accessories|WaterPurifierAccessories'\n",
      " 'Home&Kitchen|Kitchen&HomeAppliances|WaterPurifiers&Accessories|WaterCartridges'\n",
      " 'Home&Kitchen|Kitchen&HomeAppliances|SmallKitchenAppliances|Rice&PastaCookers'\n",
      " 'Car&Motorbike|CarAccessories|InteriorAccessories|AirPurifiers&Ionizers'\n",
      " 'Home&Kitchen|Kitchen&HomeAppliances|Vacuum,Cleaning&Ironing|Vacuums&FloorCare|Vacuums|Wet-DryVacuums'\n",
      " 'Home&Kitchen|Heating,Cooling&AirQuality|AirPurifiers|HEPAAirPurifiers'\n",
      " 'Home&Kitchen|Kitchen&HomeAppliances|WaterPurifiers&Accessories|WaterFilters&Purifiers'\n",
      " 'Home&Kitchen|HomeStorage&Organization|LaundryOrganization|LaundryBags'\n",
      " 'Home&Kitchen|Kitchen&HomeAppliances|SewingMachines&Accessories|Sewing&EmbroideryMachines'\n",
      " 'Home&Kitchen|HomeStorage&Organization|LaundryOrganization|IroningAccessories|SprayBottles'\n",
      " 'Home&Kitchen|Kitchen&HomeAppliances|SmallKitchenAppliances|HandMixers'\n",
      " 'Home&Kitchen|Kitchen&HomeAppliances|SmallKitchenAppliances|Mills&Grinders|WetGrinders'\n",
      " 'Home&Kitchen|Kitchen&HomeAppliances|SmallKitchenAppliances|OvenToasterGrills'\n",
      " 'Home&Kitchen|Kitchen&HomeAppliances|SmallKitchenAppliances|Juicers'\n",
      " 'Home&Kitchen|Kitchen&HomeAppliances|SmallKitchenAppliances'\n",
      " 'Health&PersonalCare|HomeMedicalSupplies&Equipment|HealthMonitors|WeighingScales|DigitalBathroomScales'\n",
      " 'Home&Kitchen|Kitchen&HomeAppliances|Coffee,Tea&Espresso|EspressoMachines'\n",
      " 'Home&Kitchen|Heating,Cooling&AirQuality|Fans|TableFans'\n",
      " 'Home&Kitchen|Kitchen&HomeAppliances|Coffee,Tea&Espresso|MilkFrothers'\n",
      " 'Home&Kitchen|Heating,Cooling&AirQuality|Humidifiers'\n",
      " 'Home&Kitchen|Kitchen&HomeAppliances|SmallKitchenAppliances|SmallApplianceParts&Accessories|StandMixerAccessories'\n",
      " 'Home&Kitchen|Kitchen&HomeAppliances|Vacuum,Cleaning&Ironing|Vacuums&FloorCare|Vacuums|RoboticVacuums'\n",
      " 'Home&Kitchen|Kitchen&HomeAppliances|SmallKitchenAppliances|YogurtMakers'\n",
      " 'Home&Kitchen|Kitchen&HomeAppliances|SmallKitchenAppliances|Juicers|ColdPressJuicers'\n",
      " 'Home&Kitchen|Heating,Cooling&AirQuality|AirConditioners|Split-SystemAirConditioners'\n",
      " 'Home&Kitchen|Kitchen&HomeAppliances|SmallKitchenAppliances|SmallApplianceParts&Accessories'\n",
      " 'Home&Kitchen|Kitchen&HomeAppliances|SmallKitchenAppliances|WaffleMakers&Irons'\n",
      " 'Home&Kitchen|Kitchen&HomeAppliances|Coffee,Tea&Espresso|StovetopEspressoPots'\n",
      " 'Home&Kitchen|Kitchen&HomeAppliances|Coffee,Tea&Espresso|CoffeeMakerAccessories|MeasuringSpoons'\n",
      " 'Home&Kitchen|Kitchen&HomeAppliances|Coffee,Tea&Espresso|CoffeePresses'\n",
      " 'Home&Kitchen|Kitchen&HomeAppliances|SmallKitchenAppliances|RotiMakers'\n",
      " 'Home&Kitchen|Heating,Cooling&AirQuality|Parts&Accessories|FanParts&Accessories'\n",
      " 'Home&Kitchen|Kitchen&HomeAppliances|SmallKitchenAppliances|StandMixers'\n",
      " 'Home&Kitchen|Heating,Cooling&AirQuality|Fans|PedestalFans'\n",
      " 'Home&Kitchen|Kitchen&HomeAppliances|Vacuum,Cleaning&Ironing|Vacuums&FloorCare|VacuumAccessories|VacuumBags|HandheldBags']\n"
     ]
    }
   ],
   "source": [
    "unique_labels = df['category'].unique()\n",
    "print(unique_labels)"
   ]
  },
  {
   "cell_type": "code",
   "execution_count": 19,
   "id": "e952b00f-4dd6-40b8-8cf1-d6934137089b",
   "metadata": {},
   "outputs": [
    {
     "name": "stdout",
     "output_type": "stream",
     "text": [
      "['Car&Motorbike', 'Computers&Accessories', 'Electronics', 'Health&PersonalCare', 'Home&Kitchen', 'HomeImprovement', 'MusicalInstruments', 'OfficeProducts', 'Toys&Games']\n"
     ]
    }
   ],
   "source": [
    "# Extract the part of the string up to the first '|'\n",
    "df['main_category'] = df['category'].apply(lambda x: x.split('|')[0])\n",
    "\n",
    "# Get unique values and sort them\n",
    "sorted_categories = sorted(df['main_category'].unique())\n",
    "# Display the sorted unique main categories\n",
    "print(sorted_categories)"
   ]
  },
  {
   "cell_type": "markdown",
   "id": "625a873e-4247-468e-b902-8bb8798a267a",
   "metadata": {},
   "source": [
    "# EXPLORATORY DATA ANALYSIS ON AMAZON DATA"
   ]
  },
  {
   "cell_type": "code",
   "execution_count": 26,
   "id": "b03eaa60-7ff3-4961-80b2-2d0111db2bef",
   "metadata": {},
   "outputs": [
    {
     "data": {
      "image/png": "[encoded data removed]",
      "text/plain": [
       "<Figure size 1500x600 with 1 Axes>"
      ]
     },
     "metadata": {},
     "output_type": "display_data"
    }
   ],
   "source": [
    "sns.countplot(x='main_category',data=df)\n",
    "ax=sns.countplot(x='main_category',data=df)\n",
    "sns.set(rc={'figure.figsize': (16, 6)})\n",
    "for bars in ax. containers:\n",
    "    ax.bar_label(bars)"
   ]
  },
  {
   "cell_type": "markdown",
   "id": "ea98972f-5ed4-432f-a070-06d4352dc46b",
   "metadata": {},
   "source": [
    "from above graph,we can see that most products are bought from \"Electronics\" category."
   ]
  },
  {
   "cell_type": "code",
   "execution_count": 27,
   "id": "0b050583-ff5d-4b1e-baae-6cc0717a63c1",
   "metadata": {},
   "outputs": [
    {
     "data": {
      "image/png": "[encoded data removed]",
      "text/plain": [
       "<Figure size 1600x600 with 1 Axes>"
      ]
     },
     "metadata": {},
     "output_type": "display_data"
    }
   ],
   "source": [
    "# Filter the dataframe for specific ratings\n",
    "filtered_df = df[df['rating'].isin([2.0, 3.0, 4.0, 5.0])]\n",
    "\n",
    "# graph with filtered ratings\n",
    "sns.countplot(data=filtered_df, x='main_category', hue='rating', palette='tab10')  #custom palette if needed\n",
    "sns.set(rc={'figure.figsize': (15, 10)})\n",
    "for bars in ax.containers:\n",
    "    ax.bar_label(bars)\n"
   ]
  },
  {
   "cell_type": "markdown",
   "id": "6004d203-cbed-4020-bf87-869eadbafa16",
   "metadata": {},
   "source": [
    "From the graph, it can be concluded that the majority of reviews across categories, particularly \"Electronics\" and \"Home & Kitchen,\" have a high rating."
   ]
  },
  {
   "cell_type": "code",
   "execution_count": 28,
   "id": "3c957aae-491c-4b7e-bf7b-38828044b952",
   "metadata": {},
   "outputs": [
    {
     "data": {
      "text/plain": [
       "<Axes: xlabel='main_category', ylabel='discounted_price'>"
      ]
     },
     "execution_count": 28,
     "metadata": {},
     "output_type": "execute_result"
    },
    {
     "data": {
      "image/png": "[encoded data removed]",
      "text/plain": [
       "<Figure size 800x500 with 1 Axes>"
      ]
     },
     "metadata": {},
     "output_type": "display_data"
    }
   ],
   "source": [
    "discount_category = df.groupby(['main_category'], as_index=False)['discounted_price'].sum()\\\n",
    "                      .sort_values(by='discounted_price', ascending=False).head(4)\n",
    "sns.set(rc={'figure.figsize': (8, 5)})\n",
    "sns.barplot(data=discount_category, x='main_category', y='discounted_price')"
   ]
  },
  {
   "cell_type": "markdown",
   "id": "72f74bf3-76fe-40bd-9cac-92f037c5880f",
   "metadata": {},
   "source": [
    "from above graph,it is clear that 'Electronics' category has more discount price."
   ]
  },
  {
   "cell_type": "code",
   "execution_count": 29,
   "id": "1eb8c80b-6c3c-4594-9176-28bafe102464",
   "metadata": {},
   "outputs": [
    {
     "data": {
      "image/png": "[encoded data removed]",
      "text/plain": [
       "<Figure size 600x400 with 1 Axes>"
      ]
     },
     "metadata": {},
     "output_type": "display_data"
    }
   ],
   "source": [
    "discount_ratingcount = (df.groupby(['rating_count'], as_index=False)['discounted_price'].sum()\n",
    "    .sort_values(by='discounted_price', ascending=False).head(5))\n",
    "sns.set(rc={'figure.figsize': (6, 4)})\n",
    "ax = sns.barplot(data=discount_ratingcount, y='rating_count', x='discounted_price')"
   ]
  },
  {
   "cell_type": "markdown",
   "id": "4f288c2c-804d-4158-b90d-6d8823578a46",
   "metadata": {},
   "source": [
    "from above graph,we can conclude that products with moderate discount price has heigher rating count."
   ]
  },
  {
   "cell_type": "code",
   "execution_count": 31,
   "id": "b400fe35-f634-4f0d-8d36-f98c824bcc6e",
   "metadata": {},
   "outputs": [
    {
     "data": {
      "image/png": "[encoded data removed]",
      "text/plain": [
       "<Figure size 900x400 with 1 Axes>"
      ]
     },
     "metadata": {},
     "output_type": "display_data"
    }
   ],
   "source": [
    "discount_rating = (df.groupby(['rating'], as_index=False)['discounted_price'].sum()\n",
    "    .sort_values(by='discounted_price', ascending=False).head(5))\n",
    "sns.set(rc={'figure.figsize': (9, 4)})\n",
    "ax = sns.barplot(data=discount_rating, y='rating', x='discounted_price')"
   ]
  },
  {
   "cell_type": "markdown",
   "id": "14310df9-cdc5-4dc1-b5fa-566585f432d6",
   "metadata": {},
   "source": [
    "from the above graph,Products with moderate discounted prices receive the highest number of ratings, suggesting they are the most popular or widely purchased among customers."
   ]
  },
  {
   "cell_type": "markdown",
   "id": "0d0f8ed9-5206-4d37-83aa-72ee6063c5ad",
   "metadata": {},
   "source": [
    "CONCLUSION"
   ]
  },
  {
   "cell_type": "markdown",
   "id": "d24f4bdf-eb23-47a8-b6cd-72a9bf10f2ca",
   "metadata": {},
   "source": [
    "1.In general,Products with moderate discounts tend to attract the highest number of ratings, indicating greater popularity and purchase frequency across categories.\n",
    "\n"
   ]
  },
  {
   "cell_type": "markdown",
   "id": "a287530d-52a7-4244-ab67-ab29ef86621e",
   "metadata": {},
   "source": [
    "2.The \"Electronics\" category on Amazon dominates in popularity, showcasing the highest number of ratings and significant discounts, reflecting strong customer interest.\n",
    "\n",
    "3.Products with moderate discounts across all categories tend to receive the most reviews, indicating they are widely purchased and appreciated by customers.\n",
    "\n",
    "4.This highlights that Amazon customers prioritize a balance of affordability and perceived value, driving satisfaction and higher engagement with moderately discounted products."
   ]
  }
 ],
 "metadata": {
  "kernelspec": {
   "display_name": "Python 3 (ipykernel)",
   "language": "python",
   "name": "python3"
  },
  "language_info": {
   "codemirror_mode": {
    "name": "ipython",
    "version": 3
   },
   "file_extension": ".py",
   "mimetype": "text/x-python",
   "name": "python",
   "nbconvert_exporter": "python",
   "pygments_lexer": "ipython3",
   "version": "3.13.0"
  }
 },
 "nbformat": 4,
 "nbformat_minor": 5
}
